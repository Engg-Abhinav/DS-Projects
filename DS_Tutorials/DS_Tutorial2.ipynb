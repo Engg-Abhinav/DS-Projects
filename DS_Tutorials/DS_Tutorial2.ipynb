{
  "cells": [
    {
      "cell_type": "markdown",
      "metadata": {
        "id": "view-in-github",
        "colab_type": "text"
      },
      "source": [
        "<a href=\"https://colab.research.google.com/github/Engg-Abhinav/DS-Projects/blob/main/DS_Tutorials/DS_Tutorial2.ipynb\" target=\"_parent\"><img src=\"https://colab.research.google.com/assets/colab-badge.svg\" alt=\"Open In Colab\"/></a>"
      ]
    },
    {
      "cell_type": "markdown",
      "metadata": {
        "id": "AXgeNfne2kBR"
      },
      "source": [
        "Suppose the IQ in a certain population is normally distributed with a mean of μ = 100 and standard deviation of σ = 15.\n",
        "A researcher wants to know if a new drug affects IQ levels, so he recruits 20 patients to try it and records their IQ levels.\n",
        "The following code shows how to perform a one sample z-test in Python to determine if the new drug causes a significant difference in IQ levels:"
      ]
    },
    {
      "cell_type": "code",
      "execution_count": 1,
      "metadata": {
        "colab": {
          "base_uri": "https://localhost:8080/"
        },
        "id": "BwCd4isFuJ7g",
        "outputId": "95865798-2974-4417-bf8d-242700cfa5e6"
      },
      "outputs": [
        {
          "output_type": "execute_result",
          "data": {
            "text/plain": [
              "(1.5976240527147705, 0.1101266701438426)"
            ]
          },
          "metadata": {},
          "execution_count": 1
        }
      ],
      "source": [
        "# For z-test we use this library\n",
        "from statsmodels.stats.weightstats import ztest as ztest\n",
        "\n",
        "# Enter IQ levels for 20 patients\n",
        "data = [88, 92, 94, 94, 96, 97, 97, 97, 99, 99, \n",
        "        105, 109, 109, 109, 110, 112, 112, 113, 114, 115]\n",
        "\n",
        "ztest(data, value = 100)"
      ]
    },
    {
      "cell_type": "markdown",
      "metadata": {
        "id": "70FdU_wV9L7T"
      },
      "source": [
        "It's (Z-test value, p-vale)"
      ]
    },
    {
      "cell_type": "code",
      "execution_count": 2,
      "metadata": {
        "id": "sd-WBkKt4JY5"
      },
      "outputs": [],
      "source": [
        "# t-test\n",
        "\n",
        "ages=[10,20,35,50,28,40,55,18,16,55,30,25,43,18,30,28,14,24,16,17,32,35,26,27,65,18,43,23,21,20,19,70]"
      ]
    },
    {
      "cell_type": "code",
      "execution_count": 3,
      "metadata": {
        "id": "iHAoGkZtCuqL",
        "colab": {
          "base_uri": "https://localhost:8080/"
        },
        "outputId": "4d2234a4-6ea0-4d02-ec25-869ab7636eed"
      },
      "outputs": [
        {
          "output_type": "execute_result",
          "data": {
            "text/plain": [
              "30.34375"
            ]
          },
          "metadata": {},
          "execution_count": 3
        }
      ],
      "source": [
        "import numpy as np\n",
        "ages_mean = np.mean(ages)\n",
        "ages_mean"
      ]
    },
    {
      "cell_type": "code",
      "source": [
        "sample_size = 10\n",
        "age_sample = np.random.choice(ages, sample_size)"
      ],
      "metadata": {
        "id": "IRcOF8hZu7be"
      },
      "execution_count": 4,
      "outputs": []
    },
    {
      "cell_type": "code",
      "source": [
        "age_sample"
      ],
      "metadata": {
        "colab": {
          "base_uri": "https://localhost:8080/"
        },
        "id": "LeLRdVrZcKQe",
        "outputId": "27f10e43-2168-450d-df2a-cce52c8fb313"
      },
      "execution_count": 5,
      "outputs": [
        {
          "output_type": "execute_result",
          "data": {
            "text/plain": [
              "array([30, 55, 16, 14, 20, 28, 32, 16, 20, 16])"
            ]
          },
          "metadata": {},
          "execution_count": 5
        }
      ]
    },
    {
      "cell_type": "code",
      "source": [
        "np.mean(age_sample)"
      ],
      "metadata": {
        "colab": {
          "base_uri": "https://localhost:8080/"
        },
        "id": "Lwyk0r4TdoWh",
        "outputId": "0cb0ea6b-5fef-4953-dfe2-1005e897c853"
      },
      "execution_count": 8,
      "outputs": [
        {
          "output_type": "execute_result",
          "data": {
            "text/plain": [
              "24.7"
            ]
          },
          "metadata": {},
          "execution_count": 8
        }
      ]
    },
    {
      "cell_type": "code",
      "source": [
        "from scipy.stats import ttest_1samp"
      ],
      "metadata": {
        "id": "lzf1AfUqdJRK"
      },
      "execution_count": 6,
      "outputs": []
    },
    {
      "cell_type": "code",
      "source": [
        "ttest_1samp(age_sample, 30)"
      ],
      "metadata": {
        "colab": {
          "base_uri": "https://localhost:8080/"
        },
        "id": "Y0jY7D4idX2t",
        "outputId": "f5cdeb42-8a1e-428e-c0cd-57ec86737cfc"
      },
      "execution_count": 7,
      "outputs": [
        {
          "output_type": "execute_result",
          "data": {
            "text/plain": [
              "TtestResult(statistic=-1.3456708994990616, pvalue=0.21132610354094872, df=9)"
            ]
          },
          "metadata": {},
          "execution_count": 7
        }
      ]
    },
    {
      "cell_type": "code",
      "source": [
        "ttest_1samp(age_sample, 31)"
      ],
      "metadata": {
        "colab": {
          "base_uri": "https://localhost:8080/"
        },
        "id": "JiVu__N5dsXv",
        "outputId": "7d49b072-c5b3-4702-957b-8299180b65a0"
      },
      "execution_count": 10,
      "outputs": [
        {
          "output_type": "execute_result",
          "data": {
            "text/plain": [
              "TtestResult(statistic=-1.5995710692158658, pvalue=0.1441580434283342, df=9)"
            ]
          },
          "metadata": {},
          "execution_count": 10
        }
      ]
    },
    {
      "cell_type": "code",
      "source": [
        "ttest_1samp(age_sample, 28)"
      ],
      "metadata": {
        "colab": {
          "base_uri": "https://localhost:8080/"
        },
        "id": "07tSO2xee4po",
        "outputId": "ca0cb00c-cf7c-4236-e5a2-cd85cf1fe9e8"
      },
      "execution_count": 11,
      "outputs": [
        {
          "output_type": "execute_result",
          "data": {
            "text/plain": [
              "TtestResult(statistic=-0.8378705600654536, pvalue=0.42379518318422493, df=9)"
            ]
          },
          "metadata": {},
          "execution_count": 11
        }
      ]
    },
    {
      "cell_type": "code",
      "source": [
        "ttest_1samp(age_sample, 20)"
      ],
      "metadata": {
        "colab": {
          "base_uri": "https://localhost:8080/"
        },
        "id": "3PcaCkQhe7zg",
        "outputId": "0eb1a0dd-f792-441b-c829-a22648576cfe"
      },
      "execution_count": 12,
      "outputs": [
        {
          "output_type": "execute_result",
          "data": {
            "text/plain": [
              "TtestResult(statistic=1.1933307976689789, pvalue=0.2632469038335788, df=9)"
            ]
          },
          "metadata": {},
          "execution_count": 12
        }
      ]
    },
    {
      "cell_type": "code",
      "source": [
        "ttest_1samp(age_sample, 10)"
      ],
      "metadata": {
        "colab": {
          "base_uri": "https://localhost:8080/"
        },
        "id": "3iXUB82bfFVw",
        "outputId": "da02e266-c6a9-4f06-969e-1f12b2c111fc"
      },
      "execution_count": 13,
      "outputs": [
        {
          "output_type": "execute_result",
          "data": {
            "text/plain": [
              "TtestResult(statistic=3.7323324948370193, pvalue=0.004680574805682019, df=9)"
            ]
          },
          "metadata": {},
          "execution_count": 13
        }
      ]
    },
    {
      "cell_type": "code",
      "source": [
        "# Consider anothe example \n",
        "#ages of the college students(population)\n",
        "#1 class student mean of all the ages "
      ],
      "metadata": {
        "id": "1L3b6DPhfIk4"
      },
      "execution_count": null,
      "outputs": []
    }
  ],
  "metadata": {
    "colab": {
      "provenance": [],
      "authorship_tag": "ABX9TyMzzCy9No4ngbS5U4XEJCEU",
      "include_colab_link": true
    },
    "kernelspec": {
      "display_name": "Python 3",
      "name": "python3"
    },
    "language_info": {
      "name": "python"
    }
  },
  "nbformat": 4,
  "nbformat_minor": 0
}