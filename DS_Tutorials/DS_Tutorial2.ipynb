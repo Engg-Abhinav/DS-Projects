{
  "nbformat": 4,
  "nbformat_minor": 0,
  "metadata": {
    "colab": {
      "provenance": [],
      "authorship_tag": "ABX9TyPtVHItJ8rY5jTD30lJ585Y",
      "include_colab_link": true
    },
    "kernelspec": {
      "name": "python3",
      "display_name": "Python 3"
    },
    "language_info": {
      "name": "python"
    }
  },
  "cells": [
    {
      "cell_type": "markdown",
      "metadata": {
        "id": "view-in-github",
        "colab_type": "text"
      },
      "source": [
        "<a href=\"https://colab.research.google.com/github/Engg-Abhinav/DS-Projects/blob/main/DS_Tutorials/DS_Tutorial2.ipynb\" target=\"_parent\"><img src=\"https://colab.research.google.com/assets/colab-badge.svg\" alt=\"Open In Colab\"/></a>"
      ]
    },
    {
      "cell_type": "markdown",
      "source": [
        "Suppose the IQ in a certain population is normally distributed with a mean of μ = 100 and standard deviation of σ = 15.\n",
        "A researcher wants to know if a new drug affects IQ levels, so he recruits 20 patients to try it and records their IQ levels.\n",
        "The following code shows how to perform a one sample z-test in Python to determine if the new drug causes a significant difference in IQ levels:"
      ],
      "metadata": {
        "id": "AXgeNfne2kBR"
      }
    },
    {
      "cell_type": "code",
      "execution_count": 1,
      "metadata": {
        "colab": {
          "base_uri": "https://localhost:8080/"
        },
        "id": "BwCd4isFuJ7g",
        "outputId": "380b9004-abeb-4e17-ce19-746bf1982ce3"
      },
      "outputs": [
        {
          "output_type": "execute_result",
          "data": {
            "text/plain": [
              "(1.5976240527147705, 0.1101266701438426)"
            ]
          },
          "metadata": {},
          "execution_count": 1
        }
      ],
      "source": [
        "# For z-test we use this library\n",
        "from statsmodels.stats.weightstats import ztest as ztest\n",
        "\n",
        "# Enter IQ levels for 20 patients\n",
        "data = [88, 92, 94, 94, 96, 97, 97, 97, 99, 99, \n",
        "        105, 109, 109, 109, 110, 112, 112, 113, 114, 115]\n",
        "\n",
        "ztest(data, value = 100)"
      ]
    },
    {
      "cell_type": "markdown",
      "source": [
        "It's (Z-test value, p-vale)"
      ],
      "metadata": {
        "id": "70FdU_wV9L7T"
      }
    },
    {
      "cell_type": "code",
      "source": [],
      "metadata": {
        "id": "sd-WBkKt4JY5"
      },
      "execution_count": null,
      "outputs": []
    }
  ]
}